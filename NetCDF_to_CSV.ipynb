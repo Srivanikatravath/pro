{
  "nbformat": 4,
  "nbformat_minor": 0,
  "metadata": {
    "colab": {
      "provenance": [],
      "include_colab_link": true
    },
    "kernelspec": {
      "name": "python3",
      "display_name": "Python 3"
    },
    "language_info": {
      "name": "python"
    }
  },
  "cells": [
    {
      "cell_type": "markdown",
      "metadata": {
        "id": "view-in-github",
        "colab_type": "text"
      },
      "source": [
        "<a href=\"https://colab.research.google.com/github/Srivanikatravath/pro/blob/main/NetCDF_to_CSV.ipynb\" target=\"_parent\"><img src=\"https://colab.research.google.com/assets/colab-badge.svg\" alt=\"Open In Colab\"/></a>"
      ]
    },
    {
      "cell_type": "code",
      "source": [
        "# This is script is prepared to extract to data from NetCDF (.nc) files and save it into CSV format"
      ],
      "metadata": {
        "id": "uxOTn0sLRQIW"
      },
      "execution_count": null,
      "outputs": []
    },
    {
      "cell_type": "code",
      "execution_count": null,
      "metadata": {
        "id": "LUmIKRaOK3uR"
      },
      "outputs": [],
      "source": [
        "import xarray\n",
        "import pandas as pd\n",
        "import numpy as np"
      ]
    },
    {
      "cell_type": "code",
      "source": [
        "# Provide the path where all NetCDF (.nc) files are stored\n",
        "# You can also upload the files into GDrive also\n",
        "netCDF_path = '/content'\n",
        "\n",
        "dsmerged = xarray.open_mfdataset(netCDF_path+'/*.nc')\n",
        "dsmerged"
      ],
      "metadata": {
        "id": "qXw9JJPXLMii"
      },
      "execution_count": null,
      "outputs": []
    },
    {
      "cell_type": "code",
      "source": [
        "# Provide variable name as displayed in the result of above cell\n",
        "\n",
        "var_name = 'precip'\n",
        "lat_name = 'latitude'\n",
        "long_name = 'longitude'\n",
        "time_name = 'time'\n",
        "\n",
        "arr_lat=np.array(dsmerged[lat_name])\n",
        "arr_long=np.array(dsmerged[long_name])\n",
        "arr_time=np.array(dsmerged[time_name])\n",
        "\n",
        "variable = dsmerged[var_name]\n",
        "variable[-1,:,:].plot(figsize = (10,5))\n"
      ],
      "metadata": {
        "id": "BCTYsnVMNUCV"
      },
      "execution_count": null,
      "outputs": []
    },
    {
      "cell_type": "code",
      "source": [
        "# Function to extract the data\n",
        "def get_closest_rain_data(user_lat, user_long, arr_lat, arr_long, pcp2):\n",
        "    # Find the closest latitude and longitude indices\n",
        "    closest_index_lat = np.argmin(np.abs(arr_lat - user_lat))\n",
        "    closest_index_long = np.argmin(np.abs(arr_long - user_long))\n",
        "\n",
        "    # Get the closest latitude and longitude values\n",
        "    closest_lat = arr_lat[closest_index_lat]\n",
        "    closest_long = arr_long[closest_index_long]\n",
        "\n",
        "    # Print the closest lat/long and their indices\n",
        "    print(\"Closest latitude:\", closest_lat, \"at index:\", closest_index_lat)\n",
        "    print(\"Closest longitude:\", closest_long, \"at index:\", closest_index_long)\n",
        "\n",
        "    # Get the rainfall data for the closest location\n",
        "    arr_rain = pcp2[:, closest_index_lat, closest_index_long]\n",
        "\n",
        "    # Create the name string\n",
        "    name = f\"{closest_lat}_{closest_long}\"\n",
        "\n",
        "    return arr_rain, name"
      ],
      "metadata": {
        "id": "wTcyfz7gNXqT"
      },
      "execution_count": null,
      "outputs": []
    },
    {
      "cell_type": "code",
      "source": [
        "# To download data of a single location into csv\n",
        "#  Please provide lat and long\n",
        "\n",
        "# 28.679, 77.069 Delhi\n",
        "user_lat = 28.679\n",
        "user_long = 77.069\n",
        "\n",
        "\n",
        "arr_rain, name = get_closest_rain_data(user_lat, user_long, arr_lat, arr_long, variable)\n",
        "df2 = pd.DataFrame({name: arr_rain}, index=arr_time)\n",
        "\n",
        "# Uncomment this line to download the data into csv\n",
        "# df2.to_csv(var_name + '_' +name+'.csv')\n",
        "df2"
      ],
      "metadata": {
        "id": "rV8V60odNaOc"
      },
      "execution_count": null,
      "outputs": []
    },
    {
      "cell_type": "code",
      "source": [
        "# To download data of a bounding box into csv\n",
        "#  Please provide upper and lower lat and long\n",
        "\n",
        "upper_lat = 35\n",
        "lower_lat = 30\n",
        "upper_long = 80\n",
        "lower_long = 73\n",
        "\n",
        "def slicing_variable(variable, lat_name, lon_name, lower_lat, upper_lat, lower_long, upper_long):\n",
        "    variable2 = variable.sel({lat_name: slice(lower_lat, upper_lat), long_name: slice(lower_long, upper_long)})\n",
        "    # print (variable2)\n",
        "    # variable2[-1, :, :].plot()\n",
        "    return variable2\n",
        "\n",
        "variable2 = slicing_variable(variable, lat_name, long_name, lower_lat, upper_lat, lower_long, upper_long)\n",
        "if variable2.size == 0:\n",
        "    variable2 = slicing_variable(variable, lat_name, long_name, upper_lat, lower_lat, lower_long, upper_long)\n",
        "\n",
        "variable2[-1, :, :].plot()"
      ],
      "metadata": {
        "id": "JPzHo0hmNjGV"
      },
      "execution_count": null,
      "outputs": []
    },
    {
      "cell_type": "code",
      "source": [
        "varList = []\n",
        "nameList = []\n",
        "\n",
        "arr_lat=np.array(variable2[lat_name])\n",
        "arr_long=np.array(variable2[long_name])\n",
        "arr_time=np.array(variable2[time_name])\n",
        "\n",
        "for latt in arr_lat:\n",
        "  for longg in arr_long:\n",
        "    print (latt, longg)\n",
        "    arr_var, name = get_closest_rain_data(latt, longg, arr_lat, arr_long, variable2)\n",
        "    varList.append(arr_var)\n",
        "    nameList.append(name)\n",
        "    # print (arr_var)\n",
        "\n",
        "\n",
        "data_dict = {name: array for name, array in zip(nameList, varList)}\n",
        "\n",
        "df3 = pd.DataFrame(data_dict, index=arr_time)\n",
        "\n",
        "# Uncomment this line to download the data into csv\n",
        "# df3.to_csv(var_name+'_All.csv')\n",
        "df3"
      ],
      "metadata": {
        "id": "XIt2F5Y9Noo_"
      },
      "execution_count": null,
      "outputs": []
    }
  ]
}